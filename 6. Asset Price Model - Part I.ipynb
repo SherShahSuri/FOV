{
 "cells": [
  {
   "cell_type": "markdown",
   "metadata": {},
   "source": [
    "\n",
    "<font size=4>\n",
    "$$ D(t+\\delta t)=D(t)+r\\delta t D(t) \\tag{6.1}$$\n",
    "\n",
    "\n",
    "$$ S(t_i+1)=S(t_i)+\\mu \\delta t S(t_i) + \\sigma\\sqrt{\\delta t}Y_iS(t_i) \\tag{6.2}$$\n",
    "</font>"
   ]
  },
  {
   "cell_type": "markdown",
   "metadata": {},
   "source": [
    "$\\mu \\ \\text{is a constant parameter, and plays the same role as the interest rate}\\  r\\ \\text{ in equation 6.2}$\n",
    "\n",
    "\n",
    "$\\{Y_i\\}_{i\\ge0}\\ \\text{are i.i.d.} \\ N(0,1) \\text{ with zero mean and unit variance}$"
   ]
  },
  {
   "cell_type": "markdown",
   "metadata": {},
   "source": [
    "<font size=4>\n",
    "$$S(t)=S_0\\prod_{i=0}^{L-1}\\left(1+\\mu\\delta t+\\sigma\\sqrt{\\delta t}Y_i\\right)\n",
    "$$\n",
    "    So, \n",
    "$$\\operatorname{log}\\left(\\frac{S(t)}{S_0}\\right)=\n",
    "\\sum_{i=0}^{L-1}\\operatorname{log}\\left(1+\\mu\\delta t+\\sigma\\sqrt{\\delta t}Y_i\\right) \\tag{6.3}\n",
    "$$    \n",
    "\n",
    "\n",
    "Since we are interested in the limit $\\delta t \\to 0$ we use the approximation $\\operatorname{log}(1+\\epsilon)=\\epsilon-\\epsilon^2/2+\\cdots$ for small $\\epsilon$\n",
    "\n",
    "\n",
    "$$\n",
    "\\operatorname{log}\\left(\\frac{S(t)}{S_0}\\right) \\approx \n",
    "\\sum_{i=0}^{L-1}(\\mu \\delta t + \\sigma \\sqrt{\\delta t} Y_i -\\frac{1}{2}\\sigma^2\\delta t Y_i^2) \\tag{6.4}\n",
    "$$\n",
    "\n",
    "\n",
    "where we have disregarded the terms with power $\\delta^{3/2}$ or higher\n",
    "</font>"
   ]
  },
  {
   "cell_type": "markdown",
   "metadata": {},
   "source": [
    "<font size=4>\n",
    "Now,\n",
    "$$E[X^2] = V[X] + (E[X])^2 \\text{                      when } X \\sim N(0,1)$$\n",
    "So,\n",
    "$$\\textbf{E}\\left(\\mu \\delta t + \\sigma \\sqrt{\\delta t} Y_i -\\frac{1}{2}\\sigma^2\\delta t Y_i^2\\right)=\n",
    "\\mu \\delta t -\\frac{1}{2}\\sigma^2\\delta t \\tag{6.5}$$\n",
    "and,\n",
    "$$\\operatorname{var}\\left(\\mu \\delta t + \\sigma \\sqrt{\\delta t} Y_i -\\frac{1}{2}\\sigma^2\\delta t Y_i^2\\right)=\n",
    "\\sigma^2\\delta t + \\text{higher powers of } \\delta t \\tag{6.6}$$</font>"
   ]
  },
  {
   "cell_type": "markdown",
   "metadata": {},
   "source": [
    "<font size=4>\n",
    "$$\\operatorname{log}\\left(\\frac{S(t)}{S_0}\\right) \\sim\n",
    "\\mathrm{N}\\left((\\mu-\\frac{1}{2}\\sigma^2)t, \\sigma^2 t\\right) \\tag{6.7} $$\n",
    "\n",
    "</font>\n"
   ]
  },
  {
   "cell_type": "markdown",
   "metadata": {},
   "source": [
    "<font size=4>\n",
    "Based on these arguments, our limiting <i>continuous-time expression</i> for the asset price at time $t$ becomes\n",
    "\n",
    "$$S(t)=S_0e^{(\\mu-1/2\\sigma^2)t+\\sigma\\sqrt{t}Z} \\text{      where } Z\\sim N(0,1) \\tag{6.8}$$\n",
    "\n",
    "    \n",
    "</font>"
   ]
  },
  {
   "cell_type": "markdown",
   "metadata": {},
   "source": [
    "<font size=4>\n",
    "The corresponding density function for $S(t)$ becomes:\n",
    "    \n",
    "    \n",
    "$$f(x)=\\frac{\\exp\\left(\\frac{-(\\operatorname{log}(x/S_0)-(\\mu-\\sigma^2/2)t)^2}{2\\sigma^2t}\\right)}{x\\sigma\\sqrt{2\\pi t}},\n",
    "    \\text{         for      } x\\ge 0 \n",
    "    \\tag{6.10}$$\n",
    "</font>"
   ]
  },
  {
   "cell_type": "markdown",
   "metadata": {},
   "source": [
    "<font size=3>$$[\\mu-1.96\\sigma, \\mu+1.96\\sigma] \\text{ is a 95% confidence interval }$$ </font>"
   ]
  },
  {
   "cell_type": "markdown",
   "metadata": {},
   "source": [
    "So, $2S_01.96\\sigma\\sqrt{t}$ is the 95% confidence interval width for $S(t)$. This is the popular rule of thumb that \n",
    "*over small time periods, uncertainity grows like the root of time*"
   ]
  },
  {
   "cell_type": "markdown",
   "metadata": {},
   "source": [
    "## 6.1\n",
    "Consider the following variations on the discrete model:\n",
    "$$ S(t_{i+1})=S(t_i)+\\mu \\delta t S(t_i)+\\sigma\\delta t Y_iS(t_i)$$\n",
    "and \n",
    "$$ S(t_{i+1})=S(t_i)+\\mu \\delta t S(t_i)+\\sigma{\\delta t}^{\\frac{1}{4}} Y_iS(t_i)$$\n",
    "\n",
    "By mimicking the heuristic derivation that led to the continuous model (6.8), show that neither of these two variations is satisfactory."
   ]
  },
  {
   "cell_type": "markdown",
   "metadata": {},
   "source": [
    "## 6.2\n",
    "Consider the discrete model (6.2) in the case where $\\{Y_i \\}$ are general i.i.d. random variables with zero mean and unit variance (i.e., not necessarily normal). Assume also that $E[Y^3_i]$ and $E[Y^4_i]$ are finite. Mimic the heuristic derivation that led to (6.8) and show that the same continuous model arises."
   ]
  },
  {
   "cell_type": "markdown",
   "metadata": {},
   "source": [
    "## 6.3\n",
    "Explain why the model (6.2) is ‘statistically the same if σ is replaced by −σ’."
   ]
  },
  {
   "cell_type": "markdown",
   "metadata": {},
   "source": [
    "## 6.4\n",
    "Verify (6.5) and (6.6)."
   ]
  },
  {
   "cell_type": "markdown",
   "metadata": {},
   "source": [
    "## 6.5\n",
    "Show that S(t) in (6.8) has density function (6.10). \\[Hint: use the\n",
    "characterization $P(a \\le S(t)\\le b) = \\int^b_a f(x)dx$ from (3.3).]"
   ]
  },
  {
   "cell_type": "markdown",
   "metadata": {},
   "source": [
    "## 6.6\n",
    "Using (3.8), show that (6.11), (6.12) and (6.13) follow from (6.10)."
   ]
  },
  {
   "cell_type": "markdown",
   "metadata": {},
   "source": [
    "## 6.7\n",
    "Let $α$ be the number such that $P (|Z| ≤ α) = 0.95$, where $Z ∼ N(0, 1)$. Recalling that $N(·)$ denotes the $N(0, 1)$ distribution function, show that $α$ satisfies\n",
    "$$N(−α) = \\frac{0.05}{2}$$. After referring to Exercise 13.3, show that $α$ satisfies $α = \\sqrt{2} \\operatorname{erfinv} (0.95)$. Typing this into MATLAB gives $α = 1.9600$ (to 4 decimal places)."
   ]
  },
  {
   "cell_type": "markdown",
   "metadata": {},
   "source": [
    "## 6.8 \n",
    "Given that $P (|Z| ≤ 2.58) = 0.99, for Z ∼ N(0, 1)$, show how (6.14) changes when a 99% confidence interval is required."
   ]
  },
  {
   "cell_type": "markdown",
   "metadata": {},
   "source": [
    "## 6.9\n",
    "Show from (6.7) that (6.16) gives a 95% confidence interval for the asset price S(t)."
   ]
  },
  {
   "cell_type": "markdown",
   "metadata": {},
   "source": [
    "## 6.10\n",
    "Using Exercise 6.8, derive a 99% confidence interval for the asset price S(t). Does the traders’ rule-of-thumb still apply?"
   ]
  }
 ],
 "metadata": {
  "kernelspec": {
   "display_name": "Python 3",
   "language": "python",
   "name": "python3"
  },
  "language_info": {
   "codemirror_mode": {
    "name": "ipython",
    "version": 3
   },
   "file_extension": ".py",
   "mimetype": "text/x-python",
   "name": "python",
   "nbconvert_exporter": "python",
   "pygments_lexer": "ipython3",
   "version": "3.7.2"
  }
 },
 "nbformat": 4,
 "nbformat_minor": 2
}
