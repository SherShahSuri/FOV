{
 "cells": [
  {
   "cell_type": "markdown",
   "metadata": {},
   "source": [
    "$$ E(X) :=\\sum_{i=1}^{m}x_i p_i $$. \n",
    "\n",
    "\n",
    "\n",
    "# $$ f(x)=\\frac{1}{\\sqrt{2\\pi \\sigma^2}} e^{-\\frac{(x-\\mu)^2}{2\\sigma^2}}$$"
   ]
  },
  {
   "cell_type": "markdown",
   "metadata": {},
   "source": [
    "### Suppose $X ∼ U(α, β)$. Show that for an interval $[x_1, x_2]$ in $(α, β)$ we have\n",
    "$$ P(x_1 ≤ X ≤ x_2) = \\frac{x_2 − x_1}{β − α} $$"
   ]
  },
  {
   "cell_type": "markdown",
   "metadata": {},
   "source": [
    "Self explanatory"
   ]
  },
  {
   "cell_type": "markdown",
   "metadata": {},
   "source": [
    "### Show that (3.7) holds for a discrete random variable. Now suppose that $X$ is a continuous random variable with density function $f$ . Recall that the density function is characterized by (3.3). What is the density function of $\\alpha X$, for $\\alpha \\in R$? Show that (3.7) holds."
   ]
  },
  {
   "cell_type": "markdown",
   "metadata": {},
   "source": [
    "For a discrete random variable $X$, let $\\{x_1, x_2, \\dots\\}$ be the set of possible values. For any $\\alpha \\in \\textbf{R}$ $\\{\\alpha x_1, \\alpha x_2, \\dots\\}$ will be the set of possible values of $\\alpha X$. \n",
    "Using the formula for expectation that $\\operatorname E[X]= \\sum x_ip_i$, we get, \n",
    "$$\\begin{align}\n",
    "\\operatorname E[\\alpha X]&=\\sum \\alpha x_i p_i\\\\\n",
    "                        & = \\alpha \\sum x_i p_i\\\\\n",
    "                        & = \\alpha \\operatorname E[X]\n",
    "                        \\end{align}$$\n",
    "So, we get $\\operatorname E[\\alpha X]=\\alpha \\operatorname E[X]$"
   ]
  },
  {
   "cell_type": "markdown",
   "metadata": {},
   "source": [
    "### Using (3.6) and (3.7) show that (3.10) and (3.11) are equivalent and establish (3.12)."
   ]
  },
  {
   "cell_type": "markdown",
   "metadata": {},
   "source": [
    "$$E(X + Y) = E(X) + E(Y) \\tag{3.6}$$,\n",
    "$$\\textbf{E}(\\alpha X) = \\alpha \\textbf{E}(X),  for \\alpha \\in \\textbf{R}.\\tag{3.7}$$,\n",
    "$$var(X) := \\textbf{E}((X − \\textbf{E}(X))^2) \\tag{3.10} $$,\n",
    "$$var(X) := \\textbf{E}(X^2) − (\\textbf{E}(X))^2 \\tag{3.11}$$\n",
    "Show that 3.10 and 3.11 are equivalent:\n",
    "\\TODO\n",
    "$$var(\\alpha X) = \\alpha^2var(X), for \\alpha \\in \\textbf{R} \\tag{3.12}$$\n",
    "$$\\begin{align}\n",
    "var(\\alpha X) &=\\textbf{E}((\\alpha X - \\textbf{E}(\\alpha X)^2)\\\\\n",
    "              &=\\textbf{E}((\\alpha X - \\alpha \\textbf{E}(X)^2)\\\\\n",
    "              &=\\alpha^2 \\textbf{E}((X - \\textbf{E}(X)^2)\\\\\n",
    "              &=\\alpha^2 var(X)\n",
    "\\end{align}$$\n"
   ]
  },
  {
   "cell_type": "markdown",
   "metadata": {},
   "source": [
    "### A continuous random variable X with density function\n",
    "$$ \\begin{equation*} \n",
    "f (x) =\\begin{cases}\n",
    "        λe−λx , & for x \\gt 0,\\\\\n",
    "        0, & for x \\le 0\n",
    "        \\end{cases}\n",
    "        \\end{equation*} $$\n",
    "### where λ > 0, is said to have the exponential distribution with parameter λ. Show that in this case $\\mathbf{E}(X) = 1/λ$. Show also that $\\mathbf{E}(X^2) = 2/λ^2$ and hence find an expression for $var(X)$."
   ]
  },
  {
   "cell_type": "markdown",
   "metadata": {},
   "source": []
  },
  {
   "cell_type": "code",
   "execution_count": null,
   "metadata": {},
   "outputs": [],
   "source": []
  },
  {
   "cell_type": "code",
   "execution_count": null,
   "metadata": {},
   "outputs": [],
   "source": []
  }
 ],
 "metadata": {
  "kernelspec": {
   "display_name": "Python 3",
   "language": "python",
   "name": "python3"
  },
  "language_info": {
   "codemirror_mode": {
    "name": "ipython",
    "version": 3
   },
   "file_extension": ".py",
   "mimetype": "text/x-python",
   "name": "python",
   "nbconvert_exporter": "python",
   "pygments_lexer": "ipython3",
   "version": "3.7.2"
  }
 },
 "nbformat": 4,
 "nbformat_minor": 2
}
