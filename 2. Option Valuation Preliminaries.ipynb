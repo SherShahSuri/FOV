{
 "cells": [
  {
   "cell_type": "markdown",
   "metadata": {},
   "source": [
    " (2.1) | $D(t)=e^{rt} D_0$      \n",
    " (2.2) | $C+Ee^{-rT}=P+S $      \n",
    " (2.3) | $C\\geq S-Ee^{-rT}$      \n",
    " (2.4) | $C\\geq max(S-Ee^{-rT},0)$      \n",
    " (2.5) | $ C\\leq S$      \n",
    " (2.6) | $P\\geq max(Ee^{-rT}-S,0)$ and $P\\leq Ee^{-rT}$      "
   ]
  },
  {
   "cell_type": "markdown",
   "metadata": {},
   "source": [
    "## $${\\displaystyle \\prod _{n=1}^{\\infty }\\left({\\frac {2n}{2n-1}}\\cdot {\\frac {2n}{2n+1}}\\right)={\\frac {2}{1}}\\cdot {\\frac {2}{3}}\\cdot {\\frac {4}{3}}\\cdot {\\frac {4}{5}}\\cdot {\\frac {6}{5}}\\cdot {\\frac {6}{7}}\\cdot {\\frac {8}{7}}\\cdot {\\frac {8}{9}}\\cdots ={\\frac {\\pi }{2}}}$$"
   ]
  },
  {
   "cell_type": "markdown",
   "metadata": {},
   "source": [
    "## 2.1 \n",
    "\n",
    "### *Compound interest* works as follows. An investment $D_0$ at time zero when compounded $m$ times up to time $t$ at rate $r_c$ becomes worth \n",
    "\n",
    "### $$D(t) =\\left( 1+\\frac{r_ct}{m}\\right)^m D_0$$\n",
    "\n",
    "### Show that, for a given $m$, the compound interest rate $r_c$ that produces the same amount as the continuously compounded value $e^{rt} D_0$ satisfies $r_c = m(e^{rt/m} − 1)/t$. Use the approximation $e^x ≈ 1 + x$ for small $x$ to show that $r_c ≈ r$ when $m$ is large. (Note that in this book we always work with continuously compounded interest.)"
   ]
  },
  {
   "cell_type": "markdown",
   "metadata": {},
   "source": [
    "\n",
    "\n",
    "From simple manipulation we have \n",
    "\n",
    "$$ e^{rt}=\\left(1+\\frac{r_ct}{m}\\right)^m$$\n",
    "\n",
    "or\n",
    "$$ r_c = m(e^{rt/m}-1)/t$$\n",
    "So for small $x$, using the approximation $e^x \\approx 1+x$ \n",
    "$$\\begin{align}\n",
    "  r_c &=m(e^{rt/m}-1)/t\\\\\n",
    "  &\\approx m\\left(1+\\frac{rt}{m}-1\\right)/t\\\\\n",
    "  &\\approx m\\left(\\frac{rt}{m}\\right)/t\\\\\n",
    "  &\\approx r\n",
    "  \\end{align}$$"
   ]
  },
  {
   "cell_type": "markdown",
   "metadata": {},
   "source": [
    "## 2.2\n",
    "\n",
    "### The continuously compounded interest rate formula can be derived by\n",
    "#### (a) splitting the time interval $[0, t]$ into subintervals $[0, \\delta t], [\\delta t, 2\\delta t], . . . , [(L − 1)\\delta t, L\\delta t]$, where $\\delta t = t/L$, and\n",
    "#### (b) assuming that the value of the investment increases by a relative amount proportional to $r\\delta t$ over each subinterval.\n",
    "\n",
    "\n",
    "### Letting $t_i = i\\delta t$, this means $$D(t_{i+1}) = (1 + r\\delta t)D(t_i)        (2.7)$$ and hence $$D(t = t_L) = (1 + r\\delta t)^L D_0.$$\n",
    "\n",
    "\n",
    "### By writing this as $D(t) = e^{L log(1+rt/L)}D_0$ and using $log(1 + \\epsilon) = \\epsilon + O(\\epsilon^2)$ as $\\epsilon \\to 0$, show that this model reproduces the formula $(2.1)$ in the limit $L \\to \\infty$ (i.e. $\\delta t \\to 0$). Show that the models $$ D(t_{i+1})=\\left(1+r\\sqrt{\\delta t}\\right)D(t_i)           (2.8)$$ and $$ D(t_{i+1})=\\left(1+r(\\delta t)^{\\frac{3}{2}}\\right) D(t_i) (2.9) $$ are not consistent with continuous compounding in the limit $L \\to \\infty$ ."
   ]
  },
  {
   "cell_type": "markdown",
   "metadata": {},
   "source": [
    "As $L\\to \\infty$\n",
    "$$ rt/L \\to 0$$\n",
    "So, $$log(1+{rt}/L)\\to {rt}/L$$\n",
    "$$\\begin{align}\n",
    "D(t) &= e^{L(rt/L)} D_0 \\\\\n",
    "     &= e^{rt} D_0 \n",
    "\\end{align}$$\n"
   ]
  },
  {
   "cell_type": "markdown",
   "metadata": {},
   "source": [
    "## 2.3\n",
    "### Give an argument based on the no arbitrage assumption that justifies (2.3)."
   ]
  },
  {
   "cell_type": "markdown",
   "metadata": {},
   "source": []
  },
  {
   "cell_type": "markdown",
   "metadata": {},
   "source": [
    "## 2.4\n",
    "\n",
    "### Establish (2.6) (a) by setting up suitable portfolios and applying the arguments used to get (2.4)–(2.5), and (b) separately, by using (2.4)–(2.5) plus put–call parity (2.2)."
   ]
  },
  {
   "cell_type": "markdown",
   "metadata": {},
   "source": []
  },
  {
   "cell_type": "markdown",
   "metadata": {},
   "source": [
    "## 2.5\n",
    "###  Show that a butterfly spread with exactly the same payoff as that in Exercise 1.3 can be obtained using only a combination of European put options. Use put–call parity (2.2) to confirm that the two spreads have the same set-up cost."
   ]
  },
  {
   "cell_type": "markdown",
   "metadata": {},
   "source": [
    "## 2.6 \n",
    "### A *forward contract*, which is similar to a *futures contract*, operates as follows. Now, at time *t = 0*, Party A agrees to purchase an asset from Party B at a specified delivery time *t = T* for a specified price *F*. (Note that Party A is committed to the future purchase – by contrast, with a European call option the holder has the right, but not the obligation, to buy at the prescribed price.) Appealing to the no arbitrage assumption, show that a fair value for F is $S(0)e^{rT}$ ."
   ]
  },
  {
   "cell_type": "code",
   "execution_count": 10,
   "metadata": {},
   "outputs": [
    {
     "ename": "NameError",
     "evalue": "name 'tval' is not defined",
     "output_type": "error",
     "traceback": [
      "\u001b[1;31m---------------------------------------------------------------------------\u001b[0m",
      "\u001b[1;31mNameError\u001b[0m                                 Traceback (most recent call last)",
      "\u001b[1;32m<ipython-input-10-a28693e40706>\u001b[0m in \u001b[0;36m<module>\u001b[1;34m\u001b[0m\n\u001b[0;32m      9\u001b[0m \u001b[1;33m\u001b[0m\u001b[0m\n\u001b[0;32m     10\u001b[0m \u001b[1;33m\u001b[0m\u001b[0m\n\u001b[1;32m---> 11\u001b[1;33m \u001b[0mtrange\u001b[0m\u001b[1;33m=\u001b[0m\u001b[1;33m[\u001b[0m\u001b[1;36m0\u001b[0m\u001b[1;33m,\u001b[0m\u001b[0mtval\u001b[0m\u001b[1;33m]\u001b[0m\u001b[1;33m\u001b[0m\u001b[1;33m\u001b[0m\u001b[0m\n\u001b[0m\u001b[0;32m     12\u001b[0m \u001b[0mdrange\u001b[0m\u001b[1;33m=\u001b[0m\u001b[1;33m[\u001b[0m\u001b[0mdzero\u001b[0m\u001b[1;33m,\u001b[0m\u001b[0md\u001b[0m\u001b[1;33m]\u001b[0m\u001b[1;33m\u001b[0m\u001b[1;33m\u001b[0m\u001b[0m\n\u001b[0;32m     13\u001b[0m \u001b[1;33m\u001b[0m\u001b[0m\n",
      "\u001b[1;31mNameError\u001b[0m: name 'tval' is not defined"
     ]
    }
   ],
   "source": [
    "dzero=5\n",
    "r=0.15\n",
    "T=5\n",
    "m=60\n",
    "\n",
    "for i in range(1,m):\n",
    "    d=dzero*(1+r/12)**i\n",
    "    \n",
    "    \n",
    "trange=[0,tval]\n",
    "drange=[dzero,d]\n",
    "\n",
    "plt.plot(trange,drange,'r*')\n"
   ]
  },
  {
   "cell_type": "code",
   "execution_count": null,
   "metadata": {},
   "outputs": [],
   "source": []
  },
  {
   "cell_type": "code",
   "execution_count": null,
   "metadata": {},
   "outputs": [],
   "source": []
  }
 ],
 "metadata": {
  "kernelspec": {
   "display_name": "Python 3",
   "language": "python",
   "name": "python3"
  },
  "language_info": {
   "codemirror_mode": {
    "name": "ipython",
    "version": 3
   },
   "file_extension": ".py",
   "mimetype": "text/x-python",
   "name": "python",
   "nbconvert_exporter": "python",
   "pygments_lexer": "ipython3",
   "version": "3.7.2"
  }
 },
 "nbformat": 4,
 "nbformat_minor": 2
}
